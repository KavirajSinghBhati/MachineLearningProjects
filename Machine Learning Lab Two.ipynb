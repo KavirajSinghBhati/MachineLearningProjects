{
 "cells": [
  {
   "cell_type": "code",
   "execution_count": 1,
   "id": "be215921",
   "metadata": {},
   "outputs": [],
   "source": [
    "import pandas as pd"
   ]
  },
  {
   "cell_type": "code",
   "execution_count": 2,
   "id": "a02a405e",
   "metadata": {},
   "outputs": [],
   "source": [
    "import numpy as np"
   ]
  },
  {
   "cell_type": "code",
   "execution_count": 3,
   "id": "309d447f",
   "metadata": {},
   "outputs": [],
   "source": [
    "data = pd.read_csv(\"labtwodata.csv\")"
   ]
  },
  {
   "cell_type": "code",
   "execution_count": 4,
   "id": "3c080cc5",
   "metadata": {},
   "outputs": [],
   "source": [
    "concepts = np.array(data.iloc[:,0:-1])"
   ]
  },
  {
   "cell_type": "code",
   "execution_count": 5,
   "id": "daaf0927",
   "metadata": {},
   "outputs": [
    {
     "name": "stdout",
     "output_type": "stream",
     "text": [
      "Instances are: [['Sunny' 'Warm' 'Normal' 'Strong' 'Warm' 'Same']\n",
      " ['Sunny' 'Warm' 'High' 'Strong' 'Warm' 'Same']\n",
      " ['Rainy' 'Cold' 'High' 'Strong' 'Warm' 'Change']\n",
      " ['Sunny' 'Warm' 'High' 'Strong' 'Cool' 'Change']]\n"
     ]
    }
   ],
   "source": [
    "print(\"Instances are:\",concepts)"
   ]
  },
  {
   "cell_type": "code",
   "execution_count": 6,
   "id": "c4313960",
   "metadata": {},
   "outputs": [],
   "source": [
    "target = np.array(data.iloc[:,-1])"
   ]
  },
  {
   "cell_type": "code",
   "execution_count": 7,
   "id": "4ca641d9",
   "metadata": {},
   "outputs": [
    {
     "name": "stdout",
     "output_type": "stream",
     "text": [
      "Target values: ['Yes' 'Yes' 'No' 'Yes']\n"
     ]
    }
   ],
   "source": [
    "print(\"Target values:\",target)"
   ]
  },
  {
   "cell_type": "code",
   "execution_count": 23,
   "id": "69ab1a05",
   "metadata": {},
   "outputs": [],
   "source": [
    "def learn(concepts, target):\n",
    "    specific_h = concepts[0].copy()\n",
    "    general_h = [['?' for i in range(len(specific_h))]for i in range(len(specific_h))]\n",
    "    print(\"Initialization of specific_h and general_h\")\n",
    "    print(\"Specific boundary:\",specific_h)\n",
    "    print(\"General boundary:\",general_h)\n",
    "    for i, h in enumerate(concepts):\n",
    "        print(\"Instance\",i+1,\"is\",h)\n",
    "        if target[i] == \"Yes\":\n",
    "            print(\"Instance is positive\")\n",
    "            for x in range(len(specific_h)):\n",
    "                if h[x] != specific_h[x]:\n",
    "                    specific_h[x] += '?'\n",
    "                    general_h[x][x] += '?'\n",
    "        if target[i] == \"No\":\n",
    "            print(\"Instance is negative\")\n",
    "            for x in range(len(specific_h)):\n",
    "                if h[x] != specific_h[x]:\n",
    "                    general_h[x][x] = specific_h[x]\n",
    "                else:\n",
    "                    general_h[x] +='?'\n",
    "        print(\"Specific Bundary after \", i+1, \"Instance is \", specific_h)\n",
    "        print(\"General Bundary after \", i+1, \"Instance is \", general_h)\n",
    "        \n",
    "    indices = [i for i, val in enumerate(general_h) if val == ['?', '?', '?', '?', '?', '?']]\n",
    "    for i in indices:\n",
    "        general_h.remove(['?', '?', '?', '?', '?', '?'])\n",
    "    return specific_h, general_h"
   ]
  },
  {
   "cell_type": "code",
   "execution_count": 24,
   "id": "e7f86426",
   "metadata": {},
   "outputs": [
    {
     "name": "stdout",
     "output_type": "stream",
     "text": [
      "Initialization of specific_h and general_h\n",
      "Specific boundary: ['Sunny' 'Warm' 'Normal' 'Strong' 'Warm' 'Same']\n",
      "General boundary: [['?', '?', '?', '?', '?', '?'], ['?', '?', '?', '?', '?', '?'], ['?', '?', '?', '?', '?', '?'], ['?', '?', '?', '?', '?', '?'], ['?', '?', '?', '?', '?', '?'], ['?', '?', '?', '?', '?', '?']]\n",
      "Instance 1 is ['Sunny' 'Warm' 'Normal' 'Strong' 'Warm' 'Same']\n",
      "Instance is positive\n",
      "Specific Bundary after  1 Instance is  ['Sunny' 'Warm' 'Normal' 'Strong' 'Warm' 'Same']\n",
      "General Bundary after  1 Instance is  [['?', '?', '?', '?', '?', '?'], ['?', '?', '?', '?', '?', '?'], ['?', '?', '?', '?', '?', '?'], ['?', '?', '?', '?', '?', '?'], ['?', '?', '?', '?', '?', '?'], ['?', '?', '?', '?', '?', '?']]\n",
      "Instance 2 is ['Sunny' 'Warm' 'High' 'Strong' 'Warm' 'Same']\n",
      "Instance is positive\n",
      "Specific Bundary after  2 Instance is  ['Sunny' 'Warm' 'Normal?' 'Strong' 'Warm' 'Same']\n",
      "General Bundary after  2 Instance is  [['?', '?', '?', '?', '?', '?'], ['?', '?', '?', '?', '?', '?'], ['?', '?', '??', '?', '?', '?'], ['?', '?', '?', '?', '?', '?'], ['?', '?', '?', '?', '?', '?'], ['?', '?', '?', '?', '?', '?']]\n",
      "Instance 3 is ['Rainy' 'Cold' 'High' 'Strong' 'Warm' 'Change']\n",
      "Instance is negative\n",
      "Specific Bundary after  3 Instance is  ['Sunny' 'Warm' 'Normal?' 'Strong' 'Warm' 'Same']\n",
      "General Bundary after  3 Instance is  [['Sunny', '?', '?', '?', '?', '?'], ['?', 'Warm', '?', '?', '?', '?'], ['?', '?', 'Normal?', '?', '?', '?'], ['?', '?', '?', '?', '?', '?', '?'], ['?', '?', '?', '?', '?', '?', '?'], ['?', '?', '?', '?', '?', 'Same']]\n",
      "Instance 4 is ['Sunny' 'Warm' 'High' 'Strong' 'Cool' 'Change']\n",
      "Instance is positive\n",
      "Specific Bundary after  4 Instance is  ['Sunny' 'Warm' 'Normal??' 'Strong' 'Warm?' 'Same?']\n",
      "General Bundary after  4 Instance is  [['Sunny', '?', '?', '?', '?', '?'], ['?', 'Warm', '?', '?', '?', '?'], ['?', '?', 'Normal??', '?', '?', '?'], ['?', '?', '?', '?', '?', '?', '?'], ['?', '?', '?', '?', '??', '?', '?'], ['?', '?', '?', '?', '?', 'Same?']]\n"
     ]
    }
   ],
   "source": [
    "s,g = learn(concepts,target)"
   ]
  },
  {
   "cell_type": "code",
   "execution_count": null,
   "id": "979b1ab1",
   "metadata": {},
   "outputs": [],
   "source": []
  }
 ],
 "metadata": {
  "kernelspec": {
   "display_name": "Python 3",
   "language": "python",
   "name": "python3"
  },
  "language_info": {
   "codemirror_mode": {
    "name": "ipython",
    "version": 3
   },
   "file_extension": ".py",
   "mimetype": "text/x-python",
   "name": "python",
   "nbconvert_exporter": "python",
   "pygments_lexer": "ipython3",
   "version": "3.8.8"
  }
 },
 "nbformat": 4,
 "nbformat_minor": 5
}
