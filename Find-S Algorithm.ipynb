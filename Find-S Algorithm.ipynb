{
 "cells": [
  {
   "cell_type": "code",
   "execution_count": 1,
   "id": "fed1afc9",
   "metadata": {},
   "outputs": [],
   "source": [
    "import pandas as pd"
   ]
  },
  {
   "cell_type": "code",
   "execution_count": 2,
   "id": "9ff84507",
   "metadata": {},
   "outputs": [],
   "source": [
    "import numpy as np"
   ]
  },
  {
   "cell_type": "code",
   "execution_count": 3,
   "id": "17d7213f",
   "metadata": {},
   "outputs": [],
   "source": [
    "data = pd.read_csv('data.csv')"
   ]
  },
  {
   "cell_type": "code",
   "execution_count": 4,
   "id": "354b3d05",
   "metadata": {},
   "outputs": [],
   "source": [
    "# Making a one dimensional array of attributes"
   ]
  },
  {
   "cell_type": "code",
   "execution_count": 5,
   "id": "5221641b",
   "metadata": {},
   "outputs": [],
   "source": [
    "d = np.array(data)[:, : -1]"
   ]
  },
  {
   "cell_type": "code",
   "execution_count": 6,
   "id": "6d75cba8",
   "metadata": {},
   "outputs": [
    {
     "name": "stdout",
     "output_type": "stream",
     "text": [
      "The attributes are: [['Morning' 'Sunny' 'Warm' 'Yes' 'Mild' 'Strong']\n",
      " ['Evening' 'Rainy' 'Cold' 'No' 'Mild' 'Normal']\n",
      " ['Morning' 'Sunny' 'Moderate' 'Yes' 'Normal' 'Normal']\n",
      " ['Evening' 'Sunny' 'Cold' 'Yes' 'High' 'Strong']]\n"
     ]
    }
   ],
   "source": [
    "print(\"The attributes are:\",d)"
   ]
  },
  {
   "cell_type": "code",
   "execution_count": 7,
   "id": "f56c0fcd",
   "metadata": {},
   "outputs": [],
   "source": [
    "# Segregating target that has positive and negative values"
   ]
  },
  {
   "cell_type": "code",
   "execution_count": 8,
   "id": "b109a6de",
   "metadata": {},
   "outputs": [],
   "source": [
    "target = np.array(data)[:, -1]"
   ]
  },
  {
   "cell_type": "code",
   "execution_count": 9,
   "id": "80d44b53",
   "metadata": {},
   "outputs": [
    {
     "name": "stdout",
     "output_type": "stream",
     "text": [
      "The target is, ['Yes' 'No' 'Yes' 'Yes']\n"
     ]
    }
   ],
   "source": [
    "print(\"The target is,\",target)"
   ]
  },
  {
   "cell_type": "code",
   "execution_count": 10,
   "id": "60fb2b83",
   "metadata": {},
   "outputs": [],
   "source": [
    "# Training function to implement FIND S Algorithm"
   ]
  },
  {
   "cell_type": "code",
   "execution_count": 11,
   "id": "ea6fd9f2",
   "metadata": {},
   "outputs": [],
   "source": [
    "import enum"
   ]
  },
  {
   "cell_type": "code",
   "execution_count": 12,
   "id": "88c8c16e",
   "metadata": {},
   "outputs": [],
   "source": [
    "def train(c, t):\n",
    "    for i, val in enumerate(t):\n",
    "        if val == 'Yes':\n",
    "            specific_hypothesis = c[i].copy()\n",
    "        break\n",
    "    for i, val in enumerate(c):\n",
    "        if t[i] == 'Yes':\n",
    "            for x in range(len(specific_hypothesis)):\n",
    "                if val[x] != specific_hypothesis[x]:\n",
    "                    specific_hypothesis[x] = '?'\n",
    "                else :\n",
    "                    pass\n",
    "    return specific_hypothesis"
   ]
  },
  {
   "cell_type": "code",
   "execution_count": 13,
   "id": "b1fb7f29",
   "metadata": {},
   "outputs": [],
   "source": [
    "# Obtaining the final hypothesis"
   ]
  },
  {
   "cell_type": "code",
   "execution_count": 14,
   "id": "3aab74fe",
   "metadata": {},
   "outputs": [
    {
     "name": "stdout",
     "output_type": "stream",
     "text": [
      "The final hypothesis is ['?' 'Sunny' '?' 'Yes' '?' '?']\n"
     ]
    }
   ],
   "source": [
    "print(\"The final hypothesis is\",train(d, target))"
   ]
  }
 ],
 "metadata": {
  "kernelspec": {
   "display_name": "Python 3",
   "language": "python",
   "name": "python3"
  },
  "language_info": {
   "codemirror_mode": {
    "name": "ipython",
    "version": 3
   },
   "file_extension": ".py",
   "mimetype": "text/x-python",
   "name": "python",
   "nbconvert_exporter": "python",
   "pygments_lexer": "ipython3",
   "version": "3.8.8"
  }
 },
 "nbformat": 4,
 "nbformat_minor": 5
}
